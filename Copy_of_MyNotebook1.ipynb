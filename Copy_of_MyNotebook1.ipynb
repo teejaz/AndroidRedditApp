{
  "nbformat": 4,
  "nbformat_minor": 0,
  "metadata": {
    "colab": {
      "name": "Copy of MyNotebook1.ipynb",
      "version": "0.3.2",
      "provenance": [],
      "include_colab_link": true
    },
    "kernelspec": {
      "name": "python3",
      "display_name": "Python 3"
    }
  },
  "cells": [
    {
      "cell_type": "markdown",
      "metadata": {
        "id": "view-in-github",
        "colab_type": "text"
      },
      "source": [
        "<a href=\"https://colab.research.google.com/github/teij04/AndroidRedditApp/blob/master/Copy_of_MyNotebook1.ipynb\" target=\"_parent\"><img src=\"https://colab.research.google.com/assets/colab-badge.svg\" alt=\"Open In Colab\"/></a>"
      ]
    },
    {
      "metadata": {
        "id": "G4ZzS3Hs8wE9",
        "colab_type": "code",
        "outputId": "3b925210-94c6-4244-bfc8-9f6aa0da569d",
        "colab": {
          "base_uri": "https://localhost:8080/",
          "height": 527
        }
      },
      "cell_type": "code",
      "source": [
        "Puzzle = [list('HSLTC'),\n",
        "         list('HERUO'),\n",
        "         list('PELBO'),\n",
        "         list('EAHLL'),\n",
        "         list('HYOBO'),]\n",
        "words = ('HELLO','BOY',\t'COOL',\t'HELLO','TREE')\n",
        "\n",
        "#search words horizontal\n",
        "seq = Puzzle[::]\n",
        "\n",
        "for index, item in enumerate(Puzzle):\n",
        "        print (index, item)\n",
        "    \n",
        "for i1 in range(len(Puzzle)):\n",
        "    for i2 in range(len(Puzzle[i1])):\n",
        "        print (i1, i2, Puzzle[i1][i2])"
      ],
      "execution_count": 25,
      "outputs": [
        {
          "output_type": "stream",
          "text": [
            "0 ['H', 'S', 'L', 'T', 'C']\n",
            "1 ['H', 'E', 'R', 'U', 'O']\n",
            "2 ['P', 'E', 'L', 'B', 'O']\n",
            "3 ['E', 'A', 'H', 'L', 'L']\n",
            "4 ['H', 'Y', 'O', 'B', 'O']\n",
            "0 0 H\n",
            "0 1 S\n",
            "0 2 L\n",
            "0 3 T\n",
            "0 4 C\n",
            "1 0 H\n",
            "1 1 E\n",
            "1 2 R\n",
            "1 3 U\n",
            "1 4 O\n",
            "2 0 P\n",
            "2 1 E\n",
            "2 2 L\n",
            "2 3 B\n",
            "2 4 O\n",
            "3 0 E\n",
            "3 1 A\n",
            "3 2 H\n",
            "3 3 L\n",
            "3 4 L\n",
            "4 0 H\n",
            "4 1 Y\n",
            "4 2 O\n",
            "4 3 B\n",
            "4 4 O\n"
          ],
          "name": "stdout"
        }
      ]
    },
    {
      "metadata": {
        "id": "V3LGTfcn9LS5",
        "colab_type": "code",
        "colab": {}
      },
      "cell_type": "code",
      "source": [
        ""
      ],
      "execution_count": 0,
      "outputs": []
    },
    {
      "metadata": {
        "id": "rpKeeOk79rJB",
        "colab_type": "code",
        "colab": {}
      },
      "cell_type": "code",
      "source": [
        ""
      ],
      "execution_count": 0,
      "outputs": []
    }
  ]
}